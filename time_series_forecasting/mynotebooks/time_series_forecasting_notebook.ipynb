{
 "cells": [
  {
   "cell_type": "code",
   "execution_count": null,
   "metadata": {},
   "outputs": [],
   "source": [
    "import pandas as pd\n",
    "import matplotlib.pyplot as plt\n",
    "from statsmodels.tsa.arima.model import ARIMA\n",
    "from sklearn.metrics import mean_squared_error\n",
    "\n",
    "# Load dataset\n",
    "url = 'https://raw.githubusercontent.com/jbrownlee/Datasets/master/airline-passengers.csv'\n",
    "df = pd.read_csv(url, index_col='Month', parse_dates=True)\n",
    "\n",
    "# Train/test split\n",
    "train_size = int(len(df) * 0.8)\n",
    "train, test = df[:train_size], df[train_size:]\n",
    "\n",
    "# Fit ARIMA model\n",
    "model = ARIMA(train, order=(5, 1, 0))\n",
    "model_fit = model.fit()\n",
    "\n",
    "# Forecast\n",
    "forecast = model_fit.forecast(steps=len(test))\n",
    "\n",
    "# Evaluate model\n",
    "error = mean_squared_error(test, forecast)\n",
    "print(f'Test MSE: {error}')\n",
    "\n",
    "# Plot actual vs forecast\n",
    "plt.plot(test, label='Actual')\n",
    "plt.plot(forecast, label='Forecast')\n",
    "plt.legend()\n",
    "plt.show()"
   ]
  }
 ],
 "metadata": {
  "language_info": {
   "name": "python"
  }
 },
 "nbformat": 4,
 "nbformat_minor": 2
}
